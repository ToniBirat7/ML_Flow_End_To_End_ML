{
 "cells": [
  {
   "cell_type": "markdown",
   "id": "2eae0d8b",
   "metadata": {},
   "source": [
    "## **Working of with Keyowrd**\n",
    "\n",
    "[GPT_Explanation](https://chatgpt.com/share/681f4657-6520-8006-b695-a215a1783899)\n",
    "\n",
    "[Real_Python_Implementation](https://www.youtube.com/watch?v=iba-I4CrmyA)\n"
   ]
  },
  {
   "cell_type": "markdown",
   "id": "5a79da5f",
   "metadata": {},
   "source": [
    "## **ML Flow**\n",
    "\n",
    "Open-source. We can track our Machine Learning project such as performance metrices etc.\n",
    "\n",
    "## **Lifecycle of a Data Science Project**\n",
    "\n",
    "**Data Pre**\n",
    "\n",
    "**EDA**\n",
    "\n",
    "**Feature Eng**\n",
    "\n",
    "**Model Training**\n",
    "\n",
    "**Model Validation**\n",
    "\n",
    "**Deployment**\n",
    "\n",
    "**Monitoring**\n",
    "\n",
    "## **How ML Flow is used by Data Scientist**\n",
    "\n",
    "- Experiment Tracking\n",
    "\n",
    "- Hypothesis Testing in EDA\n",
    "\n",
    "- Code Structuring (Pipeline)\n",
    "\n",
    "- Model Packaging and Dependency Management\n",
    "\n",
    "- Evaluating Hyperparameter : Track every combination of Hyperparameter\n",
    "\n",
    "- Compare the results of model and deploy the best performing model\n",
    "\n",
    "## **How ML Flow is used by ML Engineeer**\n",
    "\n",
    "- Manage the lifecycle of trained models both pre and post deployment\n",
    "\n",
    "- Deploy models security to the production env\n",
    "\n",
    "- Manage Deployment Dependencies\n"
   ]
  },
  {
   "cell_type": "markdown",
   "id": "42d72f24",
   "metadata": {},
   "source": [
    "## **ML Flow Starter**\n",
    "\n",
    "### **ML Flow Tracking Server**\n",
    "\n",
    "For tracking our experiments we need to create a server\n",
    "\n",
    "To start the server we use `mlflow ui`.\n",
    "\n",
    "Then we will need to provide the tracking UI so that everything is tracked by MLFlow. `mlflow.set_tracking_uri(\"http://127.0.0.1:5000\")`\n",
    "\n",
    "Then to log our performance metrices we will use as below:\n",
    "\n",
    "```py\n",
    "\n",
    "mlflow.set_experiment(\"Check Local Exp\")\n",
    "\n",
    "with mlflow.start_run():\n",
    "  mlflow.log_metric(\"test\",1)\n",
    "  mlflow.log_metric(\"birat\",2)\n",
    "\n",
    "```\n",
    "\n",
    "A new folder named `mlruns` is created which stores all the info about our experiments. We should not delete the `mlruns` folder.\n",
    "\n",
    "## **Tracking a ML Project with MLFlow**\n",
    "\n",
    "`project.ipynb`\n",
    "\n",
    "Let's create a sparate folder for our ML Project.\n",
    "\n",
    "Once we have setup our ML Project, now we will have to keep track of different performance metrics on the basis of our used hyperparameters. For which we will use `ML Flow`.\n"
   ]
  },
  {
   "cell_type": "markdown",
   "id": "a7e1d8f0",
   "metadata": {},
   "source": [
    "### **Next Day**\n",
    "\n",
    "**Revise Everything Before Starting**\n",
    "\n",
    "https://www.udemy.com/course/complete-mlops-bootcamp-with-10-end-to-end-ml-projects/learn/lecture/46068371#overview\n"
   ]
  }
 ],
 "metadata": {
  "language_info": {
   "name": "python"
  }
 },
 "nbformat": 4,
 "nbformat_minor": 5
}
