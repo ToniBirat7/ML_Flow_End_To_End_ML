{
 "cells": [
  {
   "cell_type": "code",
   "execution_count": null,
   "id": "6db624b8",
   "metadata": {},
   "outputs": [],
   "source": [
    "import mlflow"
   ]
  },
  {
   "cell_type": "code",
   "execution_count": 5,
   "id": "d1eb81b8",
   "metadata": {},
   "outputs": [],
   "source": [
    "mlflow.set_tracking_uri(\"http://127.0.0.1:5000\")"
   ]
  },
  {
   "cell_type": "code",
   "execution_count": 6,
   "id": "2f119aa7",
   "metadata": {},
   "outputs": [
    {
     "name": "stderr",
     "output_type": "stream",
     "text": [
      "2025/05/10 17:05:38 INFO mlflow.tracking.fluent: Experiment with name 'Check Local Exp' does not exist. Creating a new experiment.\n",
      "2025/05/10 17:05:38 INFO mlflow.tracking._tracking_service.client: 🏃 View run abrasive-crab-294 at: http://127.0.0.1:5000/#/experiments/170930438098647026/runs/5f874ac4fc014f259bec7c83275ce3fc.\n",
      "2025/05/10 17:05:38 INFO mlflow.tracking._tracking_service.client: 🧪 View experiment at: http://127.0.0.1:5000/#/experiments/170930438098647026.\n"
     ]
    }
   ],
   "source": [
    "mlflow.set_experiment(\"Check Local Exp\")\n",
    "\n",
    "with mlflow.start_run():\n",
    "  mlflow.log_metric(\"test\",1)\n",
    "  mlflow.log_metric(\"birat\",2)"
   ]
  }
 ],
 "metadata": {
  "kernelspec": {
   "display_name": "airflow_env",
   "language": "python",
   "name": "python3"
  },
  "language_info": {
   "codemirror_mode": {
    "name": "ipython",
    "version": 3
   },
   "file_extension": ".py",
   "mimetype": "text/x-python",
   "name": "python",
   "nbconvert_exporter": "python",
   "pygments_lexer": "ipython3",
   "version": "3.8.20"
  }
 },
 "nbformat": 4,
 "nbformat_minor": 5
}
